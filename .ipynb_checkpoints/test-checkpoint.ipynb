{
 "cells": [
  {
   "cell_type": "code",
   "execution_count": 1,
   "metadata": {},
   "outputs": [
    {
     "ename": "SystemExit",
     "evalue": "0",
     "output_type": "error",
     "traceback": [
      "An exception has occurred, use %tb to see the full traceback.\n",
      "\u001b[1;31mSystemExit\u001b[0m\u001b[1;31m:\u001b[0m 0\n"
     ]
    },
    {
     "name": "stderr",
     "output_type": "stream",
     "text": [
      "C:\\Users\\crowdparti\\anaconda3\\lib\\site-packages\\IPython\\core\\interactiveshell.py:3426: UserWarning: To exit: use 'exit', 'quit', or Ctrl-D.\n",
      "  warn(\"To exit: use 'exit', 'quit', or Ctrl-D.\", stacklevel=1)\n"
     ]
    }
   ],
   "source": [
    "from main_ui import Ui_MainWindow\n",
    "from PyQt5.QtWidgets import QTableWidgetItem, QMessageBox, QMainWindow, QTableWidget, QApplication,QHeaderView\n",
    "import sys\n",
    "from PyQt5.QtCore import QThread\n",
    "from selenium import webdriver\n",
    "from selenium.webdriver.common.keys import Keys\n",
    "import time\n",
    "import random\n",
    "from selenium.webdriver.common.by import By\n",
    "from selenium.webdriver.support.ui import WebDriverWait\n",
    "from selenium.webdriver.support import expected_conditions as EC\n",
    "\n",
    "class Get_Thread(QThread):\n",
    "    def __init__(self, parent):\n",
    "        super().__init__(parent)\n",
    "\n",
    "    def run(self):\n",
    "        keyword = window.lineEdit.text()\n",
    "\n",
    "        driver = webdriver.Chrome()\n",
    "        outerbox=[]\n",
    "        for key in keyword.replace(' ','').split(','):\n",
    "            driver.get('https://itemscout.io/')\n",
    "            driver.implicitly_wait(10)\n",
    "            time.sleep(random.random())\n",
    "            search = driver.find_element_by_class_name('wow.fadeInUp')\n",
    "            search.send_keys(key)\n",
    "            search.send_keys(Keys.ENTER)\n",
    "            WebDriverWait(driver, 20).until(EC.presence_of_element_located((By.CSS_SELECTOR, \".keyword-title-word\")))\n",
    "            row = driver.find_elements_by_class_name('search-page-summary-row')[0]\n",
    "\n",
    "            innerbox=[]\n",
    "            for idx, val in enumerate(row.find_elements_by_class_name('count-stat')):\n",
    "                innerbox.append(val.text)\n",
    "            innerbox.insert(0, key)\n",
    "            innerbox.insert(4, driver.find_element_by_class_name('count-summary').find_elements_by_class_name('count-stat')[0].text)\n",
    "            innerbox.insert(5, driver.find_element_by_class_name('count-summary').find_elements_by_class_name('count-stat')[1].text)\n",
    "            innerbox.insert(6, driver.find_elements_by_class_name('stat-score.larger')[0].text.split('\\n')[0])\n",
    "            innerbox.insert(7, driver.find_elements_by_class_name('stat-score.larger')[0].text.split('\\n')[1])\n",
    "            outerbox.append(innerbox)\n",
    "\n",
    "        for box in outerbox:\n",
    "            row= window.tableWidget.rowCount()\n",
    "            col= window.tableWidget.columnCount()\n",
    "            for i in box:\n",
    "                window.tableWidget.setItem(row, col, QTableWidgetItem(i))\n",
    "\n",
    "\n",
    "\n",
    "\n",
    "class MainWindow(QMainWindow, Ui_MainWindow):\n",
    "    def __init__(self):\n",
    "        super(MainWindow, self).__init__()\n",
    "        self.setupUi(self)\n",
    "        self.pushButton.clicked.connect(self.go_search)\n",
    "        self.tableWidget.setColumnCount(8)\n",
    "        global lists\n",
    "        lists = '키워드, 상품수, 한달 검색수, 6개월 매출, 6개월 판매량, 평균가격, 경쟁강도, 경쟁강도 지표'.split(',')\n",
    "        self.tableWidget.setHorizontalHeaderLabels(lists)\n",
    "        self.tableWidget.verticalHeader().setVisible(False)\n",
    "        self.tableWidget.horizontalHeader().setSectionResizeMode(QHeaderView.Stretch)\n",
    "\n",
    "    def go_search(self):\n",
    "        thread = Get_Thread(self)\n",
    "        thread.start()\n",
    "\n",
    "if __name__ == '__main__':\n",
    "    app = QApplication(sys.argv)\n",
    "    window = MainWindow()\n",
    "    window.show()\n",
    "    sys.exit(app.exec_())\n"
   ]
  },
  {
   "cell_type": "code",
   "execution_count": 2,
   "metadata": {},
   "outputs": [],
   "source": [
    "keyword = '홍경천'\n",
    "\n",
    "driver = webdriver.Chrome()\n",
    "outerbox=[]\n",
    "for key in keyword.replace(' ','').split(','):\n",
    "    driver.get('https://itemscout.io/')\n",
    "    driver.implicitly_wait(10)\n",
    "    time.sleep(random.random())\n",
    "    search = driver.find_element_by_class_name('wow.fadeInUp')\n",
    "    search.send_keys(key)\n",
    "    search.send_keys(Keys.ENTER)\n",
    "    WebDriverWait(driver, 20).until(EC.presence_of_element_located((By.CSS_SELECTOR, \".keyword-title-word\")))\n",
    "    row = driver.find_elements_by_class_name('search-page-summary-row')[0]\n",
    "\n",
    "    innerbox=[]\n",
    "    for idx, val in enumerate(row.find_elements_by_class_name('count-stat')):\n",
    "        innerbox.append(val.text)\n",
    "    innerbox.insert(0, key)\n",
    "    innerbox.insert(4, driver.find_element_by_class_name('count-summary').find_elements_by_class_name('count-stat')[0].text)\n",
    "    innerbox.insert(5, driver.find_element_by_class_name('count-summary').find_elements_by_class_name('count-stat')[1].text)\n",
    "    innerbox.insert(6, driver.find_elements_by_class_name('stat-score.larger')[0].text.split('\\n')[0])\n",
    "    innerbox.insert(7, driver.find_elements_by_class_name('stat-score.larger')[0].text.split('\\n')[1])\n",
    "    outerbox.append(innerbox)"
   ]
  },
  {
   "cell_type": "code",
   "execution_count": 5,
   "metadata": {},
   "outputs": [
    {
     "name": "stdout",
     "output_type": "stream",
     "text": [
      "홍경천\n",
      "30,916만원\n",
      "5,586개\n",
      "50,800원\n",
      "9,704개\n",
      "7,240회\n",
      "1.34\n",
      "아주좋음\n"
     ]
    }
   ],
   "source": [
    "            for i in outerbox:\n",
    "                import pandas as pd\n",
    "                file = pd.DataFrame(outerbox)\n",
    "                file.loc[file.index.max() + 1] = i"
   ]
  },
  {
   "cell_type": "code",
   "execution_count": 40,
   "metadata": {},
   "outputs": [
    {
     "data": {
      "text/html": [
       "<div>\n",
       "<style scoped>\n",
       "    .dataframe tbody tr th:only-of-type {\n",
       "        vertical-align: middle;\n",
       "    }\n",
       "\n",
       "    .dataframe tbody tr th {\n",
       "        vertical-align: top;\n",
       "    }\n",
       "\n",
       "    .dataframe thead th {\n",
       "        text-align: right;\n",
       "    }\n",
       "</style>\n",
       "<table border=\"1\" class=\"dataframe\">\n",
       "  <thead>\n",
       "    <tr style=\"text-align: right;\">\n",
       "      <th></th>\n",
       "      <th>0</th>\n",
       "      <th>1</th>\n",
       "      <th>2</th>\n",
       "      <th>3</th>\n",
       "      <th>4</th>\n",
       "      <th>5</th>\n",
       "      <th>6</th>\n",
       "      <th>7</th>\n",
       "    </tr>\n",
       "  </thead>\n",
       "  <tbody>\n",
       "    <tr>\n",
       "      <th>0</th>\n",
       "      <td>홍경천</td>\n",
       "      <td>30,916만원</td>\n",
       "      <td>5,586개</td>\n",
       "      <td>50,800원</td>\n",
       "      <td>9,704개</td>\n",
       "      <td>7,240회</td>\n",
       "      <td>1.34</td>\n",
       "      <td>아주좋음</td>\n",
       "    </tr>\n",
       "    <tr>\n",
       "      <th>1</th>\n",
       "      <td>홍경천</td>\n",
       "      <td>30,916만원</td>\n",
       "      <td>5,586개</td>\n",
       "      <td>50,800원</td>\n",
       "      <td>9,704개</td>\n",
       "      <td>7,240회</td>\n",
       "      <td>1.34</td>\n",
       "      <td>아주좋음</td>\n",
       "    </tr>\n",
       "    <tr>\n",
       "      <th>2</th>\n",
       "      <td>홍경천</td>\n",
       "      <td>30,916만원</td>\n",
       "      <td>5,586개</td>\n",
       "      <td>50,800원</td>\n",
       "      <td>9,704개</td>\n",
       "      <td>7,240회</td>\n",
       "      <td>1.34</td>\n",
       "      <td>아주좋음</td>\n",
       "    </tr>\n",
       "    <tr>\n",
       "      <th>3</th>\n",
       "      <td>홍경천</td>\n",
       "      <td>30,916만원</td>\n",
       "      <td>5,586개</td>\n",
       "      <td>50,800원</td>\n",
       "      <td>9,704개</td>\n",
       "      <td>7,240회</td>\n",
       "      <td>1.34</td>\n",
       "      <td>아주좋음</td>\n",
       "    </tr>\n",
       "  </tbody>\n",
       "</table>\n",
       "</div>"
      ],
      "text/plain": [
       "     0         1       2        3       4       5     6     7\n",
       "0  홍경천  30,916만원  5,586개  50,800원  9,704개  7,240회  1.34  아주좋음\n",
       "1  홍경천  30,916만원  5,586개  50,800원  9,704개  7,240회  1.34  아주좋음\n",
       "2  홍경천  30,916만원  5,586개  50,800원  9,704개  7,240회  1.34  아주좋음\n",
       "3  홍경천  30,916만원  5,586개  50,800원  9,704개  7,240회  1.34  아주좋음"
      ]
     },
     "execution_count": 40,
     "metadata": {},
     "output_type": "execute_result"
    }
   ],
   "source": []
  },
  {
   "cell_type": "code",
   "execution_count": 10,
   "metadata": {},
   "outputs": [],
   "source": [
    "outerbox2= [['홍경천', '30,916만원', '5,586개', '50,800원', '9,704개', '7,240회', '1.34', '아주좋음'],['홍경천', '30,916만원', '5,586개', '50,800원', '9,704개', '7,240회', '1.34', '아주좋음']]"
   ]
  },
  {
   "cell_type": "code",
   "execution_count": null,
   "metadata": {},
   "outputs": [],
   "source": []
  }
 ],
 "metadata": {
  "kernelspec": {
   "display_name": "Python 3",
   "language": "python",
   "name": "python3"
  },
  "language_info": {
   "codemirror_mode": {
    "name": "ipython",
    "version": 3
   },
   "file_extension": ".py",
   "mimetype": "text/x-python",
   "name": "python",
   "nbconvert_exporter": "python",
   "pygments_lexer": "ipython3",
   "version": "3.8.5"
  }
 },
 "nbformat": 4,
 "nbformat_minor": 4
}
